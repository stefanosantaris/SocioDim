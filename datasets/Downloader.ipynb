{
 "cells": [
  {
   "cell_type": "code",
   "execution_count": null,
   "metadata": {},
   "outputs": [],
   "source": [
    "import requests\n",
    "from tqdm import tqdm\n",
    "import zipfile"
   ]
  },
  {
   "cell_type": "code",
   "execution_count": null,
   "metadata": {},
   "outputs": [],
   "source": [
    "def download_dataset(url, filename, extractPath):\n",
    "\n",
    "    r = requests.head(url)\n",
    "\n",
    "    file_size = int(r.headers.get('content-length', 0))\n",
    "\n",
    "    print(f'Size of file: {file_size}')\n",
    "    \n",
    "    \n",
    "    r = requests.get(url, stream=True)\n",
    "\n",
    "    initial_pos = 0\n",
    "    with open(filename, 'wb') as f:\n",
    "        with tqdm(total=file_size, unit='B',\n",
    "                  unit_scale=True, unit_divisor=1024,\n",
    "                  desc=filename, initial=initial_pos,\n",
    "                  ascii=True, miniters=1) as pbar:\n",
    "            for chunk in r.iter_content(32 * 1024):\n",
    "                f.write(chunk)\n",
    "                pbar.update(len(chunk))\n",
    "    with zipfile.ZipFile(filename, 'r') as zip_ref:\n",
    "        zip_ref.extractall(extractPath)"
   ]
  }
 ],
 "metadata": {
  "kernelspec": {
   "display_name": "Python 3",
   "language": "python",
   "name": "python3"
  },
  "language_info": {
   "codemirror_mode": {
    "name": "ipython",
    "version": 3
   },
   "file_extension": ".py",
   "mimetype": "text/x-python",
   "name": "python",
   "nbconvert_exporter": "python",
   "pygments_lexer": "ipython3",
   "version": "3.6.8"
  }
 },
 "nbformat": 4,
 "nbformat_minor": 4
}
